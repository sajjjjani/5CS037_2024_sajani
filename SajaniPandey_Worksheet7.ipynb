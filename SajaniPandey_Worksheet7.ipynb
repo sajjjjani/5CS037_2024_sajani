{
  "nbformat": 4,
  "nbformat_minor": 0,
  "metadata": {
    "colab": {
      "provenance": []
    },
    "kernelspec": {
      "name": "python3",
      "display_name": "Python 3"
    },
    "language_info": {
      "name": "python"
    }
  },
  "cells": [
    {
      "cell_type": "markdown",
      "source": [
        "1.  Regression (Blood Pressure Prediction)"
      ],
      "metadata": {
        "id": "4XW8bEw8l57L"
      }
    },
    {
      "cell_type": "code",
      "execution_count": null,
      "metadata": {
        "id": "1vKtdQV6lb0s",
        "colab": {
          "base_uri": "https://localhost:8080/"
        },
        "outputId": "384f93c1-8a63-41e1-b2aa-41f290ba143c"
      },
      "outputs": [
        {
          "output_type": "stream",
          "name": "stdout",
          "text": [
            "Mean Absolute Error (MAE) for Blood Pressure Prediction: 12.48\n",
            "Mean Squared Error (MSE) for Blood Pressure Prediction: 408.80\n",
            "Root Mean Squared Error (RMSE) for Blood Pressure Prediction: 20.22\n",
            "R² Score for Blood Pressure Prediction: 0.18\n"
          ]
        }
      ],
      "source": [
        "# Import necessary libraries for regression\n",
        "import pandas as pd\n",
        "from sklearn.model_selection import train_test_split\n",
        "from sklearn.linear_model import LinearRegression\n",
        "from sklearn.metrics import mean_absolute_error, mean_squared_error, r2_score\n",
        "import numpy as np\n",
        "\n",
        "# Load the dataset\n",
        "file_path = '/content/diabetes.csv'  # Update with your file path\n",
        "data = pd.read_csv(file_path)\n",
        "\n",
        "# Select features and target for regression\n",
        "X_reg = data.drop(columns=['BloodPressure', 'Outcome'])\n",
        "y_reg = data['BloodPressure']\n",
        "\n",
        "# Split the data into training and testing sets\n",
        "X_train_reg, X_test_reg, y_train_reg, y_test_reg = train_test_split(X_reg, y_reg, test_size=0.2, random_state=42)\n",
        "\n",
        "# Build and train the Linear Regression model\n",
        "lin_reg = LinearRegression()\n",
        "lin_reg.fit(X_train_reg, y_train_reg)\n",
        "\n",
        "# Make predictions\n",
        "y_pred_reg = lin_reg.predict(X_test_reg)\n",
        "\n",
        "# Evaluate the model\n",
        "mae_reg = mean_absolute_error(y_test_reg, y_pred_reg)\n",
        "mse_reg = mean_squared_error(y_test_reg, y_pred_reg)\n",
        "rmse_reg = np.sqrt(mse_reg)\n",
        "r2_reg = r2_score(y_test_reg, y_pred_reg)\n",
        "\n",
        "# Print the results\n",
        "print(f\"Mean Absolute Error (MAE) for Blood Pressure Prediction: {mae_reg:.2f}\")\n",
        "print(f\"Mean Squared Error (MSE) for Blood Pressure Prediction: {mse_reg:.2f}\")\n",
        "print(f\"Root Mean Squared Error (RMSE) for Blood Pressure Prediction: {rmse_reg:.2f}\")\n",
        "print(f\"R² Score for Blood Pressure Prediction: {r2_reg:.2f}\")\n"
      ]
    },
    {
      "cell_type": "markdown",
      "source": [
        "2. Classification with Logistic Regression"
      ],
      "metadata": {
        "id": "JAUBHD_7neEq"
      }
    },
    {
      "cell_type": "code",
      "source": [
        "# Import necessary libraries for Logistic Regression classification\n",
        "import pandas as pd\n",
        "from sklearn.model_selection import train_test_split\n",
        "from sklearn.linear_model import LogisticRegression\n",
        "from sklearn.metrics import accuracy_score, classification_report\n",
        "\n",
        "# Load the dataset\n",
        "file_path = '/content/diabetes.csv'\n",
        "data = pd.read_csv(file_path)\n",
        "\n",
        "# Select features and target for classification\n",
        "X_clf = data.drop(columns=['Outcome'])\n",
        "y_clf = data['Outcome']\n",
        "\n",
        "# Split the data into training and testing sets\n",
        "X_train_clf, X_test_clf, y_train_clf, y_test_clf = train_test_split(X_clf, y_clf, test_size=0.2, random_state=42)\n",
        "\n",
        "# Build and train the Logistic Regression model\n",
        "log_reg = LogisticRegression(max_iter=1000)\n",
        "log_reg.fit(X_train_clf, y_train_clf)\n",
        "\n",
        "# Make predictions and evaluate the model\n",
        "y_pred_log_reg = log_reg.predict(X_test_clf)\n",
        "accuracy_log_reg = accuracy_score(y_test_clf, y_pred_log_reg)\n",
        "\n",
        "# Print the results\n",
        "print(f\"Accuracy for Logistic Regression: {accuracy_log_reg}\")\n",
        "print(\"Classification Report for Logistic Regression:\")\n",
        "print(classification_report(y_test_clf, y_pred_log_reg))\n"
      ],
      "metadata": {
        "colab": {
          "base_uri": "https://localhost:8080/"
        },
        "id": "acoy9aIqni5H",
        "outputId": "9ac6fd5e-ccb0-4162-9f6f-cdcbe1010d1f"
      },
      "execution_count": null,
      "outputs": [
        {
          "output_type": "stream",
          "name": "stdout",
          "text": [
            "Accuracy for Logistic Regression: 0.7467532467532467\n",
            "Classification Report for Logistic Regression:\n",
            "              precision    recall  f1-score   support\n",
            "\n",
            "           0       0.81      0.79      0.80        99\n",
            "           1       0.64      0.67      0.65        55\n",
            "\n",
            "    accuracy                           0.75       154\n",
            "   macro avg       0.73      0.73      0.73       154\n",
            "weighted avg       0.75      0.75      0.75       154\n",
            "\n"
          ]
        }
      ]
    },
    {
      "cell_type": "markdown",
      "source": [
        "Classification with K-Nearest Neighbors (KNN)"
      ],
      "metadata": {
        "id": "_xbVW4YnhFvS"
      }
    },
    {
      "cell_type": "code",
      "source": [
        "# Import necessary libraries for KNN classification\n",
        "import pandas as pd\n",
        "from sklearn.model_selection import train_test_split\n",
        "from sklearn.neighbors import KNeighborsClassifier\n",
        "from sklearn.metrics import accuracy_score, classification_report\n",
        "\n",
        "# Load the dataset\n",
        "file_path = '/content/diabetes.csv'\n",
        "data = pd.read_csv(file_path)\n",
        "\n",
        "# Select features and target for classification\n",
        "X_clf = data.drop(columns=['Outcome'])\n",
        "y_clf = data['Outcome']\n",
        "\n",
        "# Split the data into training and testing sets\n",
        "X_train_clf, X_test_clf, y_train_clf, y_test_clf = train_test_split(X_clf, y_clf, test_size=0.2, random_state=42)\n",
        "\n",
        "# Build and train the K-Nearest Neighbors (KNN) model\n",
        "knn = KNeighborsClassifier(n_neighbors=5)\n",
        "knn.fit(X_train_clf, y_train_clf)\n",
        "\n",
        "# Make predictions and evaluate the model\n",
        "y_pred_knn = knn.predict(X_test_clf)\n",
        "accuracy_knn = accuracy_score(y_test_clf, y_pred_knn)\n",
        "\n",
        "# Print the results\n",
        "print(f\"Accuracy for K-Nearest Neighbors (KNN): {accuracy_knn}\")\n",
        "print(\"Classification Report for K-Nearest Neighbors (KNN):\")\n",
        "print(classification_report(y_test_clf, y_pred_knn))\n"
      ],
      "metadata": {
        "colab": {
          "base_uri": "https://localhost:8080/"
        },
        "id": "Q9hmSVPlhIcB",
        "outputId": "474d23d0-1737-4cc8-f755-bf2da9e96818"
      },
      "execution_count": null,
      "outputs": [
        {
          "output_type": "stream",
          "name": "stdout",
          "text": [
            "Accuracy for K-Nearest Neighbors (KNN): 0.6623376623376623\n",
            "Classification Report for K-Nearest Neighbors (KNN):\n",
            "              precision    recall  f1-score   support\n",
            "\n",
            "           0       0.75      0.71      0.73        99\n",
            "           1       0.52      0.58      0.55        55\n",
            "\n",
            "    accuracy                           0.66       154\n",
            "   macro avg       0.64      0.64      0.64       154\n",
            "weighted avg       0.67      0.66      0.67       154\n",
            "\n"
          ]
        }
      ]
    }
  ]
}