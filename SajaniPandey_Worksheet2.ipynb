{
  "nbformat": 4,
  "nbformat_minor": 0,
  "metadata": {
    "colab": {
      "provenance": []
    },
    "kernelspec": {
      "name": "python3",
      "display_name": "Python 3"
    },
    "language_info": {
      "name": "python"
    }
  },
  "cells": [
    {
      "cell_type": "code",
      "source": [
        "# Write the CSV data directly in Colab\n",
        "csv_data = \"\"\"CustomerID,Age,Job,Marital,Education,Balance,Loan\n",
        "101,35,admin,married,secondary,1500,yes\n",
        "102,42,technician,single,tertiary,2400,no\n",
        "103,29,entrepreneur,married,primary,500,yes\n",
        "104,51,blue-collar,divorced,secondary,800,no\n",
        "105,34,services,single,tertiary,1200,yes\n",
        "106,47,management,married,tertiary,3000,no\n",
        "107,26,student,single,secondary,100,no\n",
        "108,39,self-employed,married,tertiary,2500,no\n",
        "109,31,unemployed,single,primary,300,yes\n",
        "110,45,technician,married,secondary,1800,no\"\"\"\n",
        "\n",
        "# Save the data to a CSV file\n",
        "with open(\"bank.csv\", \"w\") as file:\n",
        "    file.write(csv_data)\n",
        "\n",
        "print(\"bank.csv created!\")\n"
      ],
      "metadata": {
        "colab": {
          "base_uri": "https://localhost:8080/"
        },
        "id": "F3StEYrL10Ri",
        "outputId": "df376e53-02c9-4820-952c-b82b9a7a8694"
      },
      "execution_count": null,
      "outputs": [
        {
          "output_type": "stream",
          "name": "stdout",
          "text": [
            "bank.csv created!\n"
          ]
        }
      ]
    },
    {
      "cell_type": "markdown",
      "source": [
        "3.1 Warming Up Exercises - Basic Inspection and Exploration:\n",
        "Problem 1 - Data Read, Write and Inspect:\n",
        "\n",
        "1. Load the provided dataset and import in pandas DataFrame."
      ],
      "metadata": {
        "id": "Sm4_5wnVSmcg"
      }
    },
    {
      "cell_type": "code",
      "execution_count": null,
      "metadata": {
        "colab": {
          "base_uri": "https://localhost:8080/",
          "height": 206
        },
        "id": "5Olz4HwyRrP7",
        "outputId": "e24cbcf5-2ba6-4f42-e418-b254854fb4ef"
      },
      "outputs": [
        {
          "output_type": "execute_result",
          "data": {
            "text/plain": [
              "   CustomerID  Age           Job   Marital  Education  Balance Loan\n",
              "0         101   35         admin   married  secondary     1500  yes\n",
              "1         102   42    technician    single   tertiary     2400   no\n",
              "2         103   29  entrepreneur   married    primary      500  yes\n",
              "3         104   51   blue-collar  divorced  secondary      800   no\n",
              "4         105   34      services    single   tertiary     1200  yes"
            ],
            "text/html": [
              "\n",
              "  <div id=\"df-7ce12778-f850-414a-b43a-ae33123fef7d\" class=\"colab-df-container\">\n",
              "    <div>\n",
              "<style scoped>\n",
              "    .dataframe tbody tr th:only-of-type {\n",
              "        vertical-align: middle;\n",
              "    }\n",
              "\n",
              "    .dataframe tbody tr th {\n",
              "        vertical-align: top;\n",
              "    }\n",
              "\n",
              "    .dataframe thead th {\n",
              "        text-align: right;\n",
              "    }\n",
              "</style>\n",
              "<table border=\"1\" class=\"dataframe\">\n",
              "  <thead>\n",
              "    <tr style=\"text-align: right;\">\n",
              "      <th></th>\n",
              "      <th>CustomerID</th>\n",
              "      <th>Age</th>\n",
              "      <th>Job</th>\n",
              "      <th>Marital</th>\n",
              "      <th>Education</th>\n",
              "      <th>Balance</th>\n",
              "      <th>Loan</th>\n",
              "    </tr>\n",
              "  </thead>\n",
              "  <tbody>\n",
              "    <tr>\n",
              "      <th>0</th>\n",
              "      <td>101</td>\n",
              "      <td>35</td>\n",
              "      <td>admin</td>\n",
              "      <td>married</td>\n",
              "      <td>secondary</td>\n",
              "      <td>1500</td>\n",
              "      <td>yes</td>\n",
              "    </tr>\n",
              "    <tr>\n",
              "      <th>1</th>\n",
              "      <td>102</td>\n",
              "      <td>42</td>\n",
              "      <td>technician</td>\n",
              "      <td>single</td>\n",
              "      <td>tertiary</td>\n",
              "      <td>2400</td>\n",
              "      <td>no</td>\n",
              "    </tr>\n",
              "    <tr>\n",
              "      <th>2</th>\n",
              "      <td>103</td>\n",
              "      <td>29</td>\n",
              "      <td>entrepreneur</td>\n",
              "      <td>married</td>\n",
              "      <td>primary</td>\n",
              "      <td>500</td>\n",
              "      <td>yes</td>\n",
              "    </tr>\n",
              "    <tr>\n",
              "      <th>3</th>\n",
              "      <td>104</td>\n",
              "      <td>51</td>\n",
              "      <td>blue-collar</td>\n",
              "      <td>divorced</td>\n",
              "      <td>secondary</td>\n",
              "      <td>800</td>\n",
              "      <td>no</td>\n",
              "    </tr>\n",
              "    <tr>\n",
              "      <th>4</th>\n",
              "      <td>105</td>\n",
              "      <td>34</td>\n",
              "      <td>services</td>\n",
              "      <td>single</td>\n",
              "      <td>tertiary</td>\n",
              "      <td>1200</td>\n",
              "      <td>yes</td>\n",
              "    </tr>\n",
              "  </tbody>\n",
              "</table>\n",
              "</div>\n",
              "    <div class=\"colab-df-buttons\">\n",
              "\n",
              "  <div class=\"colab-df-container\">\n",
              "    <button class=\"colab-df-convert\" onclick=\"convertToInteractive('df-7ce12778-f850-414a-b43a-ae33123fef7d')\"\n",
              "            title=\"Convert this dataframe to an interactive table.\"\n",
              "            style=\"display:none;\">\n",
              "\n",
              "  <svg xmlns=\"http://www.w3.org/2000/svg\" height=\"24px\" viewBox=\"0 -960 960 960\">\n",
              "    <path d=\"M120-120v-720h720v720H120Zm60-500h600v-160H180v160Zm220 220h160v-160H400v160Zm0 220h160v-160H400v160ZM180-400h160v-160H180v160Zm440 0h160v-160H620v160ZM180-180h160v-160H180v160Zm440 0h160v-160H620v160Z\"/>\n",
              "  </svg>\n",
              "    </button>\n",
              "\n",
              "  <style>\n",
              "    .colab-df-container {\n",
              "      display:flex;\n",
              "      gap: 12px;\n",
              "    }\n",
              "\n",
              "    .colab-df-convert {\n",
              "      background-color: #E8F0FE;\n",
              "      border: none;\n",
              "      border-radius: 50%;\n",
              "      cursor: pointer;\n",
              "      display: none;\n",
              "      fill: #1967D2;\n",
              "      height: 32px;\n",
              "      padding: 0 0 0 0;\n",
              "      width: 32px;\n",
              "    }\n",
              "\n",
              "    .colab-df-convert:hover {\n",
              "      background-color: #E2EBFA;\n",
              "      box-shadow: 0px 1px 2px rgba(60, 64, 67, 0.3), 0px 1px 3px 1px rgba(60, 64, 67, 0.15);\n",
              "      fill: #174EA6;\n",
              "    }\n",
              "\n",
              "    .colab-df-buttons div {\n",
              "      margin-bottom: 4px;\n",
              "    }\n",
              "\n",
              "    [theme=dark] .colab-df-convert {\n",
              "      background-color: #3B4455;\n",
              "      fill: #D2E3FC;\n",
              "    }\n",
              "\n",
              "    [theme=dark] .colab-df-convert:hover {\n",
              "      background-color: #434B5C;\n",
              "      box-shadow: 0px 1px 3px 1px rgba(0, 0, 0, 0.15);\n",
              "      filter: drop-shadow(0px 1px 2px rgba(0, 0, 0, 0.3));\n",
              "      fill: #FFFFFF;\n",
              "    }\n",
              "  </style>\n",
              "\n",
              "    <script>\n",
              "      const buttonEl =\n",
              "        document.querySelector('#df-7ce12778-f850-414a-b43a-ae33123fef7d button.colab-df-convert');\n",
              "      buttonEl.style.display =\n",
              "        google.colab.kernel.accessAllowed ? 'block' : 'none';\n",
              "\n",
              "      async function convertToInteractive(key) {\n",
              "        const element = document.querySelector('#df-7ce12778-f850-414a-b43a-ae33123fef7d');\n",
              "        const dataTable =\n",
              "          await google.colab.kernel.invokeFunction('convertToInteractive',\n",
              "                                                    [key], {});\n",
              "        if (!dataTable) return;\n",
              "\n",
              "        const docLinkHtml = 'Like what you see? Visit the ' +\n",
              "          '<a target=\"_blank\" href=https://colab.research.google.com/notebooks/data_table.ipynb>data table notebook</a>'\n",
              "          + ' to learn more about interactive tables.';\n",
              "        element.innerHTML = '';\n",
              "        dataTable['output_type'] = 'display_data';\n",
              "        await google.colab.output.renderOutput(dataTable, element);\n",
              "        const docLink = document.createElement('div');\n",
              "        docLink.innerHTML = docLinkHtml;\n",
              "        element.appendChild(docLink);\n",
              "      }\n",
              "    </script>\n",
              "  </div>\n",
              "\n",
              "\n",
              "<div id=\"df-521ff9c1-d046-4d42-b006-e8bf245b4dfc\">\n",
              "  <button class=\"colab-df-quickchart\" onclick=\"quickchart('df-521ff9c1-d046-4d42-b006-e8bf245b4dfc')\"\n",
              "            title=\"Suggest charts\"\n",
              "            style=\"display:none;\">\n",
              "\n",
              "<svg xmlns=\"http://www.w3.org/2000/svg\" height=\"24px\"viewBox=\"0 0 24 24\"\n",
              "     width=\"24px\">\n",
              "    <g>\n",
              "        <path d=\"M19 3H5c-1.1 0-2 .9-2 2v14c0 1.1.9 2 2 2h14c1.1 0 2-.9 2-2V5c0-1.1-.9-2-2-2zM9 17H7v-7h2v7zm4 0h-2V7h2v10zm4 0h-2v-4h2v4z\"/>\n",
              "    </g>\n",
              "</svg>\n",
              "  </button>\n",
              "\n",
              "<style>\n",
              "  .colab-df-quickchart {\n",
              "      --bg-color: #E8F0FE;\n",
              "      --fill-color: #1967D2;\n",
              "      --hover-bg-color: #E2EBFA;\n",
              "      --hover-fill-color: #174EA6;\n",
              "      --disabled-fill-color: #AAA;\n",
              "      --disabled-bg-color: #DDD;\n",
              "  }\n",
              "\n",
              "  [theme=dark] .colab-df-quickchart {\n",
              "      --bg-color: #3B4455;\n",
              "      --fill-color: #D2E3FC;\n",
              "      --hover-bg-color: #434B5C;\n",
              "      --hover-fill-color: #FFFFFF;\n",
              "      --disabled-bg-color: #3B4455;\n",
              "      --disabled-fill-color: #666;\n",
              "  }\n",
              "\n",
              "  .colab-df-quickchart {\n",
              "    background-color: var(--bg-color);\n",
              "    border: none;\n",
              "    border-radius: 50%;\n",
              "    cursor: pointer;\n",
              "    display: none;\n",
              "    fill: var(--fill-color);\n",
              "    height: 32px;\n",
              "    padding: 0;\n",
              "    width: 32px;\n",
              "  }\n",
              "\n",
              "  .colab-df-quickchart:hover {\n",
              "    background-color: var(--hover-bg-color);\n",
              "    box-shadow: 0 1px 2px rgba(60, 64, 67, 0.3), 0 1px 3px 1px rgba(60, 64, 67, 0.15);\n",
              "    fill: var(--button-hover-fill-color);\n",
              "  }\n",
              "\n",
              "  .colab-df-quickchart-complete:disabled,\n",
              "  .colab-df-quickchart-complete:disabled:hover {\n",
              "    background-color: var(--disabled-bg-color);\n",
              "    fill: var(--disabled-fill-color);\n",
              "    box-shadow: none;\n",
              "  }\n",
              "\n",
              "  .colab-df-spinner {\n",
              "    border: 2px solid var(--fill-color);\n",
              "    border-color: transparent;\n",
              "    border-bottom-color: var(--fill-color);\n",
              "    animation:\n",
              "      spin 1s steps(1) infinite;\n",
              "  }\n",
              "\n",
              "  @keyframes spin {\n",
              "    0% {\n",
              "      border-color: transparent;\n",
              "      border-bottom-color: var(--fill-color);\n",
              "      border-left-color: var(--fill-color);\n",
              "    }\n",
              "    20% {\n",
              "      border-color: transparent;\n",
              "      border-left-color: var(--fill-color);\n",
              "      border-top-color: var(--fill-color);\n",
              "    }\n",
              "    30% {\n",
              "      border-color: transparent;\n",
              "      border-left-color: var(--fill-color);\n",
              "      border-top-color: var(--fill-color);\n",
              "      border-right-color: var(--fill-color);\n",
              "    }\n",
              "    40% {\n",
              "      border-color: transparent;\n",
              "      border-right-color: var(--fill-color);\n",
              "      border-top-color: var(--fill-color);\n",
              "    }\n",
              "    60% {\n",
              "      border-color: transparent;\n",
              "      border-right-color: var(--fill-color);\n",
              "    }\n",
              "    80% {\n",
              "      border-color: transparent;\n",
              "      border-right-color: var(--fill-color);\n",
              "      border-bottom-color: var(--fill-color);\n",
              "    }\n",
              "    90% {\n",
              "      border-color: transparent;\n",
              "      border-bottom-color: var(--fill-color);\n",
              "    }\n",
              "  }\n",
              "</style>\n",
              "\n",
              "  <script>\n",
              "    async function quickchart(key) {\n",
              "      const quickchartButtonEl =\n",
              "        document.querySelector('#' + key + ' button');\n",
              "      quickchartButtonEl.disabled = true;  // To prevent multiple clicks.\n",
              "      quickchartButtonEl.classList.add('colab-df-spinner');\n",
              "      try {\n",
              "        const charts = await google.colab.kernel.invokeFunction(\n",
              "            'suggestCharts', [key], {});\n",
              "      } catch (error) {\n",
              "        console.error('Error during call to suggestCharts:', error);\n",
              "      }\n",
              "      quickchartButtonEl.classList.remove('colab-df-spinner');\n",
              "      quickchartButtonEl.classList.add('colab-df-quickchart-complete');\n",
              "    }\n",
              "    (() => {\n",
              "      let quickchartButtonEl =\n",
              "        document.querySelector('#df-521ff9c1-d046-4d42-b006-e8bf245b4dfc button');\n",
              "      quickchartButtonEl.style.display =\n",
              "        google.colab.kernel.accessAllowed ? 'block' : 'none';\n",
              "    })();\n",
              "  </script>\n",
              "</div>\n",
              "\n",
              "    </div>\n",
              "  </div>\n"
            ],
            "application/vnd.google.colaboratory.intrinsic+json": {
              "type": "dataframe",
              "variable_name": "df",
              "summary": "{\n  \"name\": \"df\",\n  \"rows\": 10,\n  \"fields\": [\n    {\n      \"column\": \"CustomerID\",\n      \"properties\": {\n        \"dtype\": \"number\",\n        \"std\": 3,\n        \"min\": 101,\n        \"max\": 110,\n        \"num_unique_values\": 10,\n        \"samples\": [\n          109,\n          102,\n          106\n        ],\n        \"semantic_type\": \"\",\n        \"description\": \"\"\n      }\n    },\n    {\n      \"column\": \"Age\",\n      \"properties\": {\n        \"dtype\": \"number\",\n        \"std\": 8,\n        \"min\": 26,\n        \"max\": 51,\n        \"num_unique_values\": 10,\n        \"samples\": [\n          31,\n          42,\n          47\n        ],\n        \"semantic_type\": \"\",\n        \"description\": \"\"\n      }\n    },\n    {\n      \"column\": \"Job\",\n      \"properties\": {\n        \"dtype\": \"string\",\n        \"num_unique_values\": 9,\n        \"samples\": [\n          \"self-employed\",\n          \"technician\",\n          \"management\"\n        ],\n        \"semantic_type\": \"\",\n        \"description\": \"\"\n      }\n    },\n    {\n      \"column\": \"Marital\",\n      \"properties\": {\n        \"dtype\": \"category\",\n        \"num_unique_values\": 3,\n        \"samples\": [\n          \"married\",\n          \"single\",\n          \"divorced\"\n        ],\n        \"semantic_type\": \"\",\n        \"description\": \"\"\n      }\n    },\n    {\n      \"column\": \"Education\",\n      \"properties\": {\n        \"dtype\": \"category\",\n        \"num_unique_values\": 3,\n        \"samples\": [\n          \"secondary\",\n          \"tertiary\",\n          \"primary\"\n        ],\n        \"semantic_type\": \"\",\n        \"description\": \"\"\n      }\n    },\n    {\n      \"column\": \"Balance\",\n      \"properties\": {\n        \"dtype\": \"number\",\n        \"std\": 1002,\n        \"min\": 100,\n        \"max\": 3000,\n        \"num_unique_values\": 10,\n        \"samples\": [\n          300,\n          2400,\n          3000\n        ],\n        \"semantic_type\": \"\",\n        \"description\": \"\"\n      }\n    },\n    {\n      \"column\": \"Loan\",\n      \"properties\": {\n        \"dtype\": \"category\",\n        \"num_unique_values\": 2,\n        \"samples\": [\n          \"no\",\n          \"yes\"\n        ],\n        \"semantic_type\": \"\",\n        \"description\": \"\"\n      }\n    }\n  ]\n}"
            }
          },
          "metadata": {},
          "execution_count": 6
        }
      ],
      "source": [
        "import pandas as pd\n",
        "\n",
        "# Load the dataset\n",
        "df = pd.read_csv(\"bank.csv\")\n",
        "\n",
        "# Display the first few rows of the dataset\n",
        "df.head()\n",
        "\n"
      ]
    },
    {
      "cell_type": "markdown",
      "source": [
        "2. Check info of the DataFrame and identify following:\n",
        "\n",
        "\n",
        "(a) columns with dtypes=object\n"
      ],
      "metadata": {
        "id": "Y48x2od7TqIw"
      }
    },
    {
      "cell_type": "code",
      "source": [
        "# Get info of the DataFrame\n",
        "df.info()\n",
        "\n",
        "# Identify columns with dtype=object\n",
        "object_columns = df.select_dtypes(include=['object']).columns\n",
        "print(\"Columns with dtype=object:\", object_columns)\n",
        "\n"
      ],
      "metadata": {
        "colab": {
          "base_uri": "https://localhost:8080/"
        },
        "id": "P7LkLLi1Tscl",
        "outputId": "125c0acd-0235-4390-a278-70b1484766ad"
      },
      "execution_count": null,
      "outputs": [
        {
          "output_type": "stream",
          "name": "stdout",
          "text": [
            "<class 'pandas.core.frame.DataFrame'>\n",
            "RangeIndex: 10 entries, 0 to 9\n",
            "Data columns (total 7 columns):\n",
            " #   Column      Non-Null Count  Dtype \n",
            "---  ------      --------------  ----- \n",
            " 0   CustomerID  10 non-null     int64 \n",
            " 1   Age         10 non-null     int64 \n",
            " 2   Job         10 non-null     object\n",
            " 3   Marital     10 non-null     object\n",
            " 4   Education   10 non-null     object\n",
            " 5   Balance     10 non-null     int64 \n",
            " 6   Loan        10 non-null     object\n",
            "dtypes: int64(3), object(4)\n",
            "memory usage: 688.0+ bytes\n",
            "Columns with dtype=object: Index(['Job', 'Marital', 'Education', 'Loan'], dtype='object')\n"
          ]
        }
      ]
    },
    {
      "cell_type": "markdown",
      "source": [
        "(b) unique values of those columns."
      ],
      "metadata": {
        "id": "tPGRfpU83YD_"
      }
    },
    {
      "cell_type": "code",
      "source": [
        "# Display unique values for each object column\n",
        "for col in object_columns:\n",
        "    print(f\"Unique values in column '{col}':\")\n",
        "    print(df[col].unique())\n",
        "    print(\"-\" * 50)\n"
      ],
      "metadata": {
        "colab": {
          "base_uri": "https://localhost:8080/"
        },
        "id": "F3B8iqBY3ctv",
        "outputId": "19ef0aa4-f63e-48aa-ff32-46387f1e06f5"
      },
      "execution_count": null,
      "outputs": [
        {
          "output_type": "stream",
          "name": "stdout",
          "text": [
            "Unique values in column 'Job':\n",
            "['admin' 'technician' 'entrepreneur' 'blue-collar' 'services' 'management'\n",
            " 'student' 'self-employed' 'unemployed']\n",
            "--------------------------------------------------\n",
            "Unique values in column 'Marital':\n",
            "['married' 'single' 'divorced']\n",
            "--------------------------------------------------\n",
            "Unique values in column 'Education':\n",
            "['secondary' 'tertiary' 'primary']\n",
            "--------------------------------------------------\n",
            "Unique values in column 'Loan':\n",
            "['yes' 'no']\n",
            "--------------------------------------------------\n"
          ]
        }
      ]
    },
    {
      "cell_type": "markdown",
      "source": [
        "(c) check for the total number of null values in each column."
      ],
      "metadata": {
        "id": "bpNqzwqU3iAj"
      }
    },
    {
      "cell_type": "code",
      "source": [
        "# Check null values in each column\n",
        "null_counts = df.isnull().sum()\n",
        "print(\"Total null values in each column:\")\n",
        "print(null_counts)\n"
      ],
      "metadata": {
        "colab": {
          "base_uri": "https://localhost:8080/"
        },
        "id": "p0Uq17-l3lpG",
        "outputId": "0ada115c-6f60-483a-c564-9d22406dfcd9"
      },
      "execution_count": null,
      "outputs": [
        {
          "output_type": "stream",
          "name": "stdout",
          "text": [
            "Total null values in each column:\n",
            "CustomerID    0\n",
            "Age           0\n",
            "Job           0\n",
            "Marital       0\n",
            "Education     0\n",
            "Balance       0\n",
            "Loan          0\n",
            "dtype: int64\n"
          ]
        }
      ]
    },
    {
      "cell_type": "markdown",
      "source": [
        "3. Drop all the columns with dtypes object and store in new DataFrame, also write the DataFrame in\n",
        "”.csv” with name ”banknumericdata.csv”"
      ],
      "metadata": {
        "id": "Al2a6GV-3r0Y"
      }
    },
    {
      "cell_type": "code",
      "source": [
        "# Drop columns with dtype=object\n",
        "df_numeric = df.drop(columns=object_columns)\n",
        "\n",
        "# Save the new DataFrame to a CSV file\n",
        "df_numeric.to_csv(\"banknumericdata.csv\", index=False)\n",
        "\n",
        "print(\"Numeric data saved to 'banknumericdata.csv'\")\n"
      ],
      "metadata": {
        "colab": {
          "base_uri": "https://localhost:8080/"
        },
        "id": "uWOvsz4h3wII",
        "outputId": "a9dc31cf-1a58-46e8-9f8d-614509789f09"
      },
      "execution_count": null,
      "outputs": [
        {
          "output_type": "stream",
          "name": "stdout",
          "text": [
            "Numeric data saved to 'banknumericdata.csv'\n"
          ]
        }
      ]
    },
    {
      "cell_type": "markdown",
      "source": [
        "4. Read ”banknumericdata.csv” and Find the summary statistics."
      ],
      "metadata": {
        "id": "4ERbfYm63z9y"
      }
    },
    {
      "cell_type": "code",
      "source": [
        "# Read the numeric data from the saved CSV\n",
        "df_numeric = pd.read_csv(\"banknumericdata.csv\")\n",
        "\n",
        "# Display summary statistics\n",
        "print(\"Summary statistics:\")\n",
        "print(df_numeric.describe())\n"
      ],
      "metadata": {
        "colab": {
          "base_uri": "https://localhost:8080/"
        },
        "id": "uX1VxTjf33Ph",
        "outputId": "9c17b172-428a-4591-ad67-8a3eb3c7f841"
      },
      "execution_count": null,
      "outputs": [
        {
          "output_type": "stream",
          "name": "stdout",
          "text": [
            "Summary statistics:\n",
            "       CustomerID        Age      Balance\n",
            "count    10.00000  10.000000    10.000000\n",
            "mean    105.50000  37.900000  1410.000000\n",
            "std       3.02765   8.265726  1002.718527\n",
            "min     101.00000  26.000000   100.000000\n",
            "25%     103.25000  31.750000   575.000000\n",
            "50%     105.50000  37.000000  1350.000000\n",
            "75%     107.75000  44.250000  2250.000000\n",
            "max     110.00000  51.000000  3000.000000\n"
          ]
        }
      ]
    },
    {
      "cell_type": "markdown",
      "source": [
        "Problem 2 - Data Imputations:\n",
        "Complete all the following Task:\n",
        "\n",
        "\n",
        "• Dataset for the Task: \"medical_student.csv\"\n",
        "1. Load the provided dataset and import in pandas DataFrame."
      ],
      "metadata": {
        "id": "aQ-A92TM5Cni"
      }
    },
    {
      "cell_type": "code",
      "source": [
        "# Write the CSV data directly in Colab\n",
        "medical_data = \"\"\"StudentID,Name,Age,Gender,Grade,Specialization\n",
        "101,John,22,Male,A,Cardiology\n",
        "102,Sarah,23,Female,B,Neurology\n",
        "103,Mike,,Male,C,Pediatrics\n",
        "104,Linda,21,Female,A,Neurology\"\"\"\n",
        "\n",
        "# Save the data to a CSV file\n",
        "with open(\"medical_student.csv\", \"w\") as file:\n",
        "    file.write(medical_data)\n",
        "\n",
        "print(\"medical_student.csv created!\")\n"
      ],
      "metadata": {
        "colab": {
          "base_uri": "https://localhost:8080/"
        },
        "id": "Ao6uzEAB5O17",
        "outputId": "5f8926ab-e2e8-43d7-ed3a-f40562f0c38f"
      },
      "execution_count": null,
      "outputs": [
        {
          "output_type": "stream",
          "name": "stdout",
          "text": [
            "medical_student.csv created!\n"
          ]
        }
      ]
    },
    {
      "cell_type": "code",
      "source": [
        "import pandas as pd\n",
        "\n",
        "# Load the dataset\n",
        "df = pd.read_csv(\"medical_student.csv\")\n",
        "\n",
        "# Display the first few rows\n",
        "df.head()\n"
      ],
      "metadata": {
        "colab": {
          "base_uri": "https://localhost:8080/",
          "height": 175
        },
        "id": "OO9cU0OD5oEp",
        "outputId": "ec38ea97-c0e1-40be-cbf2-ecff3cd15519"
      },
      "execution_count": null,
      "outputs": [
        {
          "output_type": "execute_result",
          "data": {
            "text/plain": [
              "   StudentID   Name   Age  Gender Grade Specialization\n",
              "0        101   John  22.0    Male     A     Cardiology\n",
              "1        102  Sarah  23.0  Female     B      Neurology\n",
              "2        103   Mike   NaN    Male     C     Pediatrics\n",
              "3        104  Linda  21.0  Female     A      Neurology"
            ],
            "text/html": [
              "\n",
              "  <div id=\"df-83f8c732-4208-4467-a473-badeed9be3c0\" class=\"colab-df-container\">\n",
              "    <div>\n",
              "<style scoped>\n",
              "    .dataframe tbody tr th:only-of-type {\n",
              "        vertical-align: middle;\n",
              "    }\n",
              "\n",
              "    .dataframe tbody tr th {\n",
              "        vertical-align: top;\n",
              "    }\n",
              "\n",
              "    .dataframe thead th {\n",
              "        text-align: right;\n",
              "    }\n",
              "</style>\n",
              "<table border=\"1\" class=\"dataframe\">\n",
              "  <thead>\n",
              "    <tr style=\"text-align: right;\">\n",
              "      <th></th>\n",
              "      <th>StudentID</th>\n",
              "      <th>Name</th>\n",
              "      <th>Age</th>\n",
              "      <th>Gender</th>\n",
              "      <th>Grade</th>\n",
              "      <th>Specialization</th>\n",
              "    </tr>\n",
              "  </thead>\n",
              "  <tbody>\n",
              "    <tr>\n",
              "      <th>0</th>\n",
              "      <td>101</td>\n",
              "      <td>John</td>\n",
              "      <td>22.0</td>\n",
              "      <td>Male</td>\n",
              "      <td>A</td>\n",
              "      <td>Cardiology</td>\n",
              "    </tr>\n",
              "    <tr>\n",
              "      <th>1</th>\n",
              "      <td>102</td>\n",
              "      <td>Sarah</td>\n",
              "      <td>23.0</td>\n",
              "      <td>Female</td>\n",
              "      <td>B</td>\n",
              "      <td>Neurology</td>\n",
              "    </tr>\n",
              "    <tr>\n",
              "      <th>2</th>\n",
              "      <td>103</td>\n",
              "      <td>Mike</td>\n",
              "      <td>NaN</td>\n",
              "      <td>Male</td>\n",
              "      <td>C</td>\n",
              "      <td>Pediatrics</td>\n",
              "    </tr>\n",
              "    <tr>\n",
              "      <th>3</th>\n",
              "      <td>104</td>\n",
              "      <td>Linda</td>\n",
              "      <td>21.0</td>\n",
              "      <td>Female</td>\n",
              "      <td>A</td>\n",
              "      <td>Neurology</td>\n",
              "    </tr>\n",
              "  </tbody>\n",
              "</table>\n",
              "</div>\n",
              "    <div class=\"colab-df-buttons\">\n",
              "\n",
              "  <div class=\"colab-df-container\">\n",
              "    <button class=\"colab-df-convert\" onclick=\"convertToInteractive('df-83f8c732-4208-4467-a473-badeed9be3c0')\"\n",
              "            title=\"Convert this dataframe to an interactive table.\"\n",
              "            style=\"display:none;\">\n",
              "\n",
              "  <svg xmlns=\"http://www.w3.org/2000/svg\" height=\"24px\" viewBox=\"0 -960 960 960\">\n",
              "    <path d=\"M120-120v-720h720v720H120Zm60-500h600v-160H180v160Zm220 220h160v-160H400v160Zm0 220h160v-160H400v160ZM180-400h160v-160H180v160Zm440 0h160v-160H620v160ZM180-180h160v-160H180v160Zm440 0h160v-160H620v160Z\"/>\n",
              "  </svg>\n",
              "    </button>\n",
              "\n",
              "  <style>\n",
              "    .colab-df-container {\n",
              "      display:flex;\n",
              "      gap: 12px;\n",
              "    }\n",
              "\n",
              "    .colab-df-convert {\n",
              "      background-color: #E8F0FE;\n",
              "      border: none;\n",
              "      border-radius: 50%;\n",
              "      cursor: pointer;\n",
              "      display: none;\n",
              "      fill: #1967D2;\n",
              "      height: 32px;\n",
              "      padding: 0 0 0 0;\n",
              "      width: 32px;\n",
              "    }\n",
              "\n",
              "    .colab-df-convert:hover {\n",
              "      background-color: #E2EBFA;\n",
              "      box-shadow: 0px 1px 2px rgba(60, 64, 67, 0.3), 0px 1px 3px 1px rgba(60, 64, 67, 0.15);\n",
              "      fill: #174EA6;\n",
              "    }\n",
              "\n",
              "    .colab-df-buttons div {\n",
              "      margin-bottom: 4px;\n",
              "    }\n",
              "\n",
              "    [theme=dark] .colab-df-convert {\n",
              "      background-color: #3B4455;\n",
              "      fill: #D2E3FC;\n",
              "    }\n",
              "\n",
              "    [theme=dark] .colab-df-convert:hover {\n",
              "      background-color: #434B5C;\n",
              "      box-shadow: 0px 1px 3px 1px rgba(0, 0, 0, 0.15);\n",
              "      filter: drop-shadow(0px 1px 2px rgba(0, 0, 0, 0.3));\n",
              "      fill: #FFFFFF;\n",
              "    }\n",
              "  </style>\n",
              "\n",
              "    <script>\n",
              "      const buttonEl =\n",
              "        document.querySelector('#df-83f8c732-4208-4467-a473-badeed9be3c0 button.colab-df-convert');\n",
              "      buttonEl.style.display =\n",
              "        google.colab.kernel.accessAllowed ? 'block' : 'none';\n",
              "\n",
              "      async function convertToInteractive(key) {\n",
              "        const element = document.querySelector('#df-83f8c732-4208-4467-a473-badeed9be3c0');\n",
              "        const dataTable =\n",
              "          await google.colab.kernel.invokeFunction('convertToInteractive',\n",
              "                                                    [key], {});\n",
              "        if (!dataTable) return;\n",
              "\n",
              "        const docLinkHtml = 'Like what you see? Visit the ' +\n",
              "          '<a target=\"_blank\" href=https://colab.research.google.com/notebooks/data_table.ipynb>data table notebook</a>'\n",
              "          + ' to learn more about interactive tables.';\n",
              "        element.innerHTML = '';\n",
              "        dataTable['output_type'] = 'display_data';\n",
              "        await google.colab.output.renderOutput(dataTable, element);\n",
              "        const docLink = document.createElement('div');\n",
              "        docLink.innerHTML = docLinkHtml;\n",
              "        element.appendChild(docLink);\n",
              "      }\n",
              "    </script>\n",
              "  </div>\n",
              "\n",
              "\n",
              "<div id=\"df-5bff0f4d-c535-45e4-95f7-c0f3c9c06a37\">\n",
              "  <button class=\"colab-df-quickchart\" onclick=\"quickchart('df-5bff0f4d-c535-45e4-95f7-c0f3c9c06a37')\"\n",
              "            title=\"Suggest charts\"\n",
              "            style=\"display:none;\">\n",
              "\n",
              "<svg xmlns=\"http://www.w3.org/2000/svg\" height=\"24px\"viewBox=\"0 0 24 24\"\n",
              "     width=\"24px\">\n",
              "    <g>\n",
              "        <path d=\"M19 3H5c-1.1 0-2 .9-2 2v14c0 1.1.9 2 2 2h14c1.1 0 2-.9 2-2V5c0-1.1-.9-2-2-2zM9 17H7v-7h2v7zm4 0h-2V7h2v10zm4 0h-2v-4h2v4z\"/>\n",
              "    </g>\n",
              "</svg>\n",
              "  </button>\n",
              "\n",
              "<style>\n",
              "  .colab-df-quickchart {\n",
              "      --bg-color: #E8F0FE;\n",
              "      --fill-color: #1967D2;\n",
              "      --hover-bg-color: #E2EBFA;\n",
              "      --hover-fill-color: #174EA6;\n",
              "      --disabled-fill-color: #AAA;\n",
              "      --disabled-bg-color: #DDD;\n",
              "  }\n",
              "\n",
              "  [theme=dark] .colab-df-quickchart {\n",
              "      --bg-color: #3B4455;\n",
              "      --fill-color: #D2E3FC;\n",
              "      --hover-bg-color: #434B5C;\n",
              "      --hover-fill-color: #FFFFFF;\n",
              "      --disabled-bg-color: #3B4455;\n",
              "      --disabled-fill-color: #666;\n",
              "  }\n",
              "\n",
              "  .colab-df-quickchart {\n",
              "    background-color: var(--bg-color);\n",
              "    border: none;\n",
              "    border-radius: 50%;\n",
              "    cursor: pointer;\n",
              "    display: none;\n",
              "    fill: var(--fill-color);\n",
              "    height: 32px;\n",
              "    padding: 0;\n",
              "    width: 32px;\n",
              "  }\n",
              "\n",
              "  .colab-df-quickchart:hover {\n",
              "    background-color: var(--hover-bg-color);\n",
              "    box-shadow: 0 1px 2px rgba(60, 64, 67, 0.3), 0 1px 3px 1px rgba(60, 64, 67, 0.15);\n",
              "    fill: var(--button-hover-fill-color);\n",
              "  }\n",
              "\n",
              "  .colab-df-quickchart-complete:disabled,\n",
              "  .colab-df-quickchart-complete:disabled:hover {\n",
              "    background-color: var(--disabled-bg-color);\n",
              "    fill: var(--disabled-fill-color);\n",
              "    box-shadow: none;\n",
              "  }\n",
              "\n",
              "  .colab-df-spinner {\n",
              "    border: 2px solid var(--fill-color);\n",
              "    border-color: transparent;\n",
              "    border-bottom-color: var(--fill-color);\n",
              "    animation:\n",
              "      spin 1s steps(1) infinite;\n",
              "  }\n",
              "\n",
              "  @keyframes spin {\n",
              "    0% {\n",
              "      border-color: transparent;\n",
              "      border-bottom-color: var(--fill-color);\n",
              "      border-left-color: var(--fill-color);\n",
              "    }\n",
              "    20% {\n",
              "      border-color: transparent;\n",
              "      border-left-color: var(--fill-color);\n",
              "      border-top-color: var(--fill-color);\n",
              "    }\n",
              "    30% {\n",
              "      border-color: transparent;\n",
              "      border-left-color: var(--fill-color);\n",
              "      border-top-color: var(--fill-color);\n",
              "      border-right-color: var(--fill-color);\n",
              "    }\n",
              "    40% {\n",
              "      border-color: transparent;\n",
              "      border-right-color: var(--fill-color);\n",
              "      border-top-color: var(--fill-color);\n",
              "    }\n",
              "    60% {\n",
              "      border-color: transparent;\n",
              "      border-right-color: var(--fill-color);\n",
              "    }\n",
              "    80% {\n",
              "      border-color: transparent;\n",
              "      border-right-color: var(--fill-color);\n",
              "      border-bottom-color: var(--fill-color);\n",
              "    }\n",
              "    90% {\n",
              "      border-color: transparent;\n",
              "      border-bottom-color: var(--fill-color);\n",
              "    }\n",
              "  }\n",
              "</style>\n",
              "\n",
              "  <script>\n",
              "    async function quickchart(key) {\n",
              "      const quickchartButtonEl =\n",
              "        document.querySelector('#' + key + ' button');\n",
              "      quickchartButtonEl.disabled = true;  // To prevent multiple clicks.\n",
              "      quickchartButtonEl.classList.add('colab-df-spinner');\n",
              "      try {\n",
              "        const charts = await google.colab.kernel.invokeFunction(\n",
              "            'suggestCharts', [key], {});\n",
              "      } catch (error) {\n",
              "        console.error('Error during call to suggestCharts:', error);\n",
              "      }\n",
              "      quickchartButtonEl.classList.remove('colab-df-spinner');\n",
              "      quickchartButtonEl.classList.add('colab-df-quickchart-complete');\n",
              "    }\n",
              "    (() => {\n",
              "      let quickchartButtonEl =\n",
              "        document.querySelector('#df-5bff0f4d-c535-45e4-95f7-c0f3c9c06a37 button');\n",
              "      quickchartButtonEl.style.display =\n",
              "        google.colab.kernel.accessAllowed ? 'block' : 'none';\n",
              "    })();\n",
              "  </script>\n",
              "</div>\n",
              "\n",
              "    </div>\n",
              "  </div>\n"
            ],
            "application/vnd.google.colaboratory.intrinsic+json": {
              "type": "dataframe",
              "variable_name": "df",
              "summary": "{\n  \"name\": \"df\",\n  \"rows\": 4,\n  \"fields\": [\n    {\n      \"column\": \"StudentID\",\n      \"properties\": {\n        \"dtype\": \"number\",\n        \"std\": 1,\n        \"min\": 101,\n        \"max\": 104,\n        \"num_unique_values\": 4,\n        \"samples\": [\n          102,\n          104,\n          101\n        ],\n        \"semantic_type\": \"\",\n        \"description\": \"\"\n      }\n    },\n    {\n      \"column\": \"Name\",\n      \"properties\": {\n        \"dtype\": \"string\",\n        \"num_unique_values\": 4,\n        \"samples\": [\n          \"Sarah\",\n          \"Linda\",\n          \"John\"\n        ],\n        \"semantic_type\": \"\",\n        \"description\": \"\"\n      }\n    },\n    {\n      \"column\": \"Age\",\n      \"properties\": {\n        \"dtype\": \"number\",\n        \"std\": 1.0,\n        \"min\": 21.0,\n        \"max\": 23.0,\n        \"num_unique_values\": 3,\n        \"samples\": [\n          22.0,\n          23.0,\n          21.0\n        ],\n        \"semantic_type\": \"\",\n        \"description\": \"\"\n      }\n    },\n    {\n      \"column\": \"Gender\",\n      \"properties\": {\n        \"dtype\": \"string\",\n        \"num_unique_values\": 2,\n        \"samples\": [\n          \"Female\",\n          \"Male\"\n        ],\n        \"semantic_type\": \"\",\n        \"description\": \"\"\n      }\n    },\n    {\n      \"column\": \"Grade\",\n      \"properties\": {\n        \"dtype\": \"string\",\n        \"num_unique_values\": 3,\n        \"samples\": [\n          \"A\",\n          \"B\"\n        ],\n        \"semantic_type\": \"\",\n        \"description\": \"\"\n      }\n    },\n    {\n      \"column\": \"Specialization\",\n      \"properties\": {\n        \"dtype\": \"string\",\n        \"num_unique_values\": 3,\n        \"samples\": [\n          \"Cardiology\",\n          \"Neurology\"\n        ],\n        \"semantic_type\": \"\",\n        \"description\": \"\"\n      }\n    }\n  ]\n}"
            }
          },
          "metadata": {},
          "execution_count": 15
        }
      ]
    },
    {
      "cell_type": "markdown",
      "source": [
        "2. Check info of the DataFrame and identify column with missing (null) values."
      ],
      "metadata": {
        "id": "oI_dDsqK50jB"
      }
    },
    {
      "cell_type": "code",
      "source": [
        "# Get info of the DataFrame\n",
        "df.info()\n",
        "\n",
        "# Check for missing values in each column\n",
        "missing_values = df.isnull().sum()\n",
        "print(\"Missing values in each column:\")\n",
        "print(missing_values)\n"
      ],
      "metadata": {
        "colab": {
          "base_uri": "https://localhost:8080/"
        },
        "id": "C3UHDZyu530k",
        "outputId": "922999e1-d62c-4292-e4b4-04ded595f6de"
      },
      "execution_count": null,
      "outputs": [
        {
          "output_type": "stream",
          "name": "stdout",
          "text": [
            "<class 'pandas.core.frame.DataFrame'>\n",
            "RangeIndex: 4 entries, 0 to 3\n",
            "Data columns (total 6 columns):\n",
            " #   Column          Non-Null Count  Dtype  \n",
            "---  ------          --------------  -----  \n",
            " 0   StudentID       4 non-null      int64  \n",
            " 1   Name            4 non-null      object \n",
            " 2   Age             3 non-null      float64\n",
            " 3   Gender          4 non-null      object \n",
            " 4   Grade           4 non-null      object \n",
            " 5   Specialization  4 non-null      object \n",
            "dtypes: float64(1), int64(1), object(4)\n",
            "memory usage: 320.0+ bytes\n",
            "Missing values in each column:\n",
            "StudentID         0\n",
            "Name              0\n",
            "Age               1\n",
            "Gender            0\n",
            "Grade             0\n",
            "Specialization    0\n",
            "dtype: int64\n"
          ]
        }
      ]
    },
    {
      "cell_type": "markdown",
      "source": [
        "3. For the column with missing values fill the values using various techniques we discussed above. Try\n",
        "to explain why did you select the particular methods for particular column."
      ],
      "metadata": {
        "id": "JpnIOlci58_j"
      }
    },
    {
      "cell_type": "code",
      "source": [
        "# Example: Fill numeric columns with mean (e.g., 'Age' column)\n",
        "df['Age'] = df['Age'].fillna(df['Age'].mean())\n",
        "\n",
        "# Example: Fill categorical columns with mode (e.g., 'Gender' column)\n",
        "df['Gender'] = df['Gender'].fillna(df['Gender'].mode()[0])\n",
        "\n",
        "# Example: Fill missing specialization with mode (since it's categorical)\n",
        "df['Specialization'] = df['Specialization'].fillna(df['Specialization'].mode()[0])\n",
        "\n",
        "# Verify missing values are handled\n",
        "print(df.isnull().sum())\n"
      ],
      "metadata": {
        "colab": {
          "base_uri": "https://localhost:8080/"
        },
        "id": "LDmOnPRe6Apv",
        "outputId": "d2129820-7405-4963-c3cc-5e8ade47da0b"
      },
      "execution_count": null,
      "outputs": [
        {
          "output_type": "stream",
          "name": "stdout",
          "text": [
            "StudentID         0\n",
            "Name              0\n",
            "Age               0\n",
            "Gender            0\n",
            "Grade             0\n",
            "Specialization    0\n",
            "dtype: int64\n"
          ]
        }
      ]
    },
    {
      "cell_type": "markdown",
      "source": [
        "4. Check for any duplicate values present in Dataset and do necessary to manage the duplicate items.\n",
        "{Hint: dataset.duplicated.sum()}"
      ],
      "metadata": {
        "id": "yQm1XEZB6fqN"
      }
    },
    {
      "cell_type": "code",
      "source": [
        "# Check for duplicate rows\n",
        "duplicate_count = df.duplicated().sum()\n",
        "print(f\"Number of duplicate rows: {duplicate_count}\")\n",
        "\n",
        "# If duplicates are found, drop them\n",
        "if duplicate_count > 0:\n",
        "    df = df.drop_duplicates()\n",
        "    print(f\"Duplicates removed. Remaining rows: {len(df)}\")\n",
        "else:\n",
        "    print(\"No duplicates found in the dataset.\")\n"
      ],
      "metadata": {
        "colab": {
          "base_uri": "https://localhost:8080/"
        },
        "id": "RWZBBWJo6gu5",
        "outputId": "7979eed3-6058-4be6-e8a1-8c05b9204697"
      },
      "execution_count": null,
      "outputs": [
        {
          "output_type": "stream",
          "name": "stdout",
          "text": [
            "Number of duplicate rows: 0\n",
            "No duplicates found in the dataset.\n"
          ]
        }
      ]
    },
    {
      "cell_type": "markdown",
      "source": [
        "3.2 Exercises - Data Cleaning and Transformations with ”Titanic Dataset”:\n",
        "\n",
        "\n",
        "Dataset Used: \"titanic.csv\"\n",
        "\n",
        "\n",
        "\n",
        "\n",
        "Problem - 1:\n",
        "Create a DataFrame that is subsetted for the columns ’Name’, ’Pclass’, ’Sex’, ’Age’, ’Fare’, and ’Survived’.\n",
        "Retain only those rows where ’Pclass’ is equal to 1, representing first-class passengers. What is the mean,\n",
        "median, maximum value, and minimum value of the ’Fare’ column?"
      ],
      "metadata": {
        "id": "ndY4ctDR6uS2"
      }
    },
    {
      "cell_type": "code",
      "source": [
        "# Write Titanic dataset with 'Embarked' column to a CSV file\n",
        "titanic_data = \"\"\"PassengerId,Name,Pclass,Sex,Age,Fare,Survived,Embarked\n",
        "1,Arjabi,1,Female,22,7.25,0,S\n",
        "2,Shiwani,1,Female,38,71.2833,1,C\n",
        "3,Namuna,1,Female,26,7.925,1,Q\n",
        "4,Sajani,1,Female,35,53.1,1,S\n",
        "5,Ryan,1,Male,35,8.05,0,S\n",
        "6,Joshua,1,Male,22,7.25,0,S\n",
        "7,Johnson,1,Male,26,7.925,1,Q\n",
        "\"\"\"\n",
        "with open(\"titanic.csv\", \"w\") as file:\n",
        "    file.write(titanic_data)\n"
      ],
      "metadata": {
        "id": "ORV8mw3I6vln"
      },
      "execution_count": null,
      "outputs": []
    },
    {
      "cell_type": "code",
      "source": [
        "import pandas as pd\n",
        "\n",
        "# Load the Titanic dataset\n",
        "df = pd.read_csv(\"titanic.csv\")\n",
        "\n",
        "# Subset the dataset for specific columns and filter for first-class passengers (Pclass == 1)\n",
        "subset_df = df[['Name', 'Pclass', 'Sex', 'Age', 'Fare', 'Survived']]\n",
        "first_class_df = subset_df[subset_df['Pclass'] == 1]\n",
        "\n",
        "# Calculate the mean, median, max, and min for the 'Fare' column\n",
        "mean_fare = first_class_df['Fare'].mean()\n",
        "median_fare = first_class_df['Fare'].median()\n",
        "max_fare = first_class_df['Fare'].max()\n",
        "min_fare = first_class_df['Fare'].min()\n",
        "\n",
        "# Display the calculated statistics\n",
        "print(\"Mean Fare:\", mean_fare)\n",
        "print(\"Median Fare:\", median_fare)\n",
        "print(\"Max Fare:\", max_fare)\n",
        "print(\"Min Fare:\", min_fare)\n"
      ],
      "metadata": {
        "colab": {
          "base_uri": "https://localhost:8080/"
        },
        "id": "TT292MOM8Dlj",
        "outputId": "0ba9adc0-18d2-4382-d434-f4a34c2b5555"
      },
      "execution_count": null,
      "outputs": [
        {
          "output_type": "stream",
          "name": "stdout",
          "text": [
            "Mean Fare: 23.254757142857148\n",
            "Median Fare: 7.925\n",
            "Max Fare: 71.2833\n",
            "Min Fare: 7.25\n"
          ]
        }
      ]
    },
    {
      "cell_type": "markdown",
      "source": [
        "Problem - 2:\n",
        "\n",
        "\n",
        "How many null values are contained in the ’Age’ column in your subsetted DataFrame? Once you’ve found\n",
        "this out, drop them from your DataFrame."
      ],
      "metadata": {
        "id": "Ar0V3zth81PR"
      }
    },
    {
      "cell_type": "code",
      "source": [
        "import pandas as pd\n",
        "\n",
        "# Load the Titanic dataset\n",
        "df = pd.read_csv(\"titanic.csv\")\n",
        "\n",
        "# Subset the dataset for specific columns and filter for first-class passengers (Pclass == 1)\n",
        "subset_df = df[['Name', 'Pclass', 'Sex', 'Age', 'Fare', 'Survived']]\n",
        "first_class_df = subset_df[subset_df['Pclass'] == 1]\n",
        "\n",
        "# Check the number of null values in the 'Age' column\n",
        "null_age_count = first_class_df['Age'].isnull().sum()\n",
        "print(f\"Number of null values in 'Age' column: {null_age_count}\")\n",
        "\n",
        "# Drop rows with null values in the 'Age' column\n",
        "first_class_df_cleaned = first_class_df.dropna(subset=['Age'])\n",
        "\n",
        "# Verify that the rows with null 'Age' have been dropped\n",
        "null_age_count_after_drop = first_class_df_cleaned['Age'].isnull().sum()\n",
        "print(f\"Number of null values in 'Age' column after dropping: {null_age_count_after_drop}\")\n",
        "\n",
        "# Display the cleaned DataFrame\n",
        "first_class_df_cleaned.head()\n"
      ],
      "metadata": {
        "colab": {
          "base_uri": "https://localhost:8080/",
          "height": 241
        },
        "id": "gTSTiyio84cc",
        "outputId": "28fc3af7-733d-4e07-fd7d-409925620e06"
      },
      "execution_count": null,
      "outputs": [
        {
          "output_type": "stream",
          "name": "stdout",
          "text": [
            "Number of null values in 'Age' column: 0\n",
            "Number of null values in 'Age' column after dropping: 0\n"
          ]
        },
        {
          "output_type": "execute_result",
          "data": {
            "text/plain": [
              "      Name  Pclass     Sex  Age     Fare  Survived\n",
              "0   Arjabi       1  Female   22   7.2500         0\n",
              "1  Shiwani       1  Female   38  71.2833         1\n",
              "2   Namuna       1  Female   26   7.9250         1\n",
              "3   Sajani       1  Female   35  53.1000         1\n",
              "4     Ryan       1    Male   35   8.0500         0"
            ],
            "text/html": [
              "\n",
              "  <div id=\"df-a9501143-4506-4b1a-94dd-a4cf3c2145fc\" class=\"colab-df-container\">\n",
              "    <div>\n",
              "<style scoped>\n",
              "    .dataframe tbody tr th:only-of-type {\n",
              "        vertical-align: middle;\n",
              "    }\n",
              "\n",
              "    .dataframe tbody tr th {\n",
              "        vertical-align: top;\n",
              "    }\n",
              "\n",
              "    .dataframe thead th {\n",
              "        text-align: right;\n",
              "    }\n",
              "</style>\n",
              "<table border=\"1\" class=\"dataframe\">\n",
              "  <thead>\n",
              "    <tr style=\"text-align: right;\">\n",
              "      <th></th>\n",
              "      <th>Name</th>\n",
              "      <th>Pclass</th>\n",
              "      <th>Sex</th>\n",
              "      <th>Age</th>\n",
              "      <th>Fare</th>\n",
              "      <th>Survived</th>\n",
              "    </tr>\n",
              "  </thead>\n",
              "  <tbody>\n",
              "    <tr>\n",
              "      <th>0</th>\n",
              "      <td>Arjabi</td>\n",
              "      <td>1</td>\n",
              "      <td>Female</td>\n",
              "      <td>22</td>\n",
              "      <td>7.2500</td>\n",
              "      <td>0</td>\n",
              "    </tr>\n",
              "    <tr>\n",
              "      <th>1</th>\n",
              "      <td>Shiwani</td>\n",
              "      <td>1</td>\n",
              "      <td>Female</td>\n",
              "      <td>38</td>\n",
              "      <td>71.2833</td>\n",
              "      <td>1</td>\n",
              "    </tr>\n",
              "    <tr>\n",
              "      <th>2</th>\n",
              "      <td>Namuna</td>\n",
              "      <td>1</td>\n",
              "      <td>Female</td>\n",
              "      <td>26</td>\n",
              "      <td>7.9250</td>\n",
              "      <td>1</td>\n",
              "    </tr>\n",
              "    <tr>\n",
              "      <th>3</th>\n",
              "      <td>Sajani</td>\n",
              "      <td>1</td>\n",
              "      <td>Female</td>\n",
              "      <td>35</td>\n",
              "      <td>53.1000</td>\n",
              "      <td>1</td>\n",
              "    </tr>\n",
              "    <tr>\n",
              "      <th>4</th>\n",
              "      <td>Ryan</td>\n",
              "      <td>1</td>\n",
              "      <td>Male</td>\n",
              "      <td>35</td>\n",
              "      <td>8.0500</td>\n",
              "      <td>0</td>\n",
              "    </tr>\n",
              "  </tbody>\n",
              "</table>\n",
              "</div>\n",
              "    <div class=\"colab-df-buttons\">\n",
              "\n",
              "  <div class=\"colab-df-container\">\n",
              "    <button class=\"colab-df-convert\" onclick=\"convertToInteractive('df-a9501143-4506-4b1a-94dd-a4cf3c2145fc')\"\n",
              "            title=\"Convert this dataframe to an interactive table.\"\n",
              "            style=\"display:none;\">\n",
              "\n",
              "  <svg xmlns=\"http://www.w3.org/2000/svg\" height=\"24px\" viewBox=\"0 -960 960 960\">\n",
              "    <path d=\"M120-120v-720h720v720H120Zm60-500h600v-160H180v160Zm220 220h160v-160H400v160Zm0 220h160v-160H400v160ZM180-400h160v-160H180v160Zm440 0h160v-160H620v160ZM180-180h160v-160H180v160Zm440 0h160v-160H620v160Z\"/>\n",
              "  </svg>\n",
              "    </button>\n",
              "\n",
              "  <style>\n",
              "    .colab-df-container {\n",
              "      display:flex;\n",
              "      gap: 12px;\n",
              "    }\n",
              "\n",
              "    .colab-df-convert {\n",
              "      background-color: #E8F0FE;\n",
              "      border: none;\n",
              "      border-radius: 50%;\n",
              "      cursor: pointer;\n",
              "      display: none;\n",
              "      fill: #1967D2;\n",
              "      height: 32px;\n",
              "      padding: 0 0 0 0;\n",
              "      width: 32px;\n",
              "    }\n",
              "\n",
              "    .colab-df-convert:hover {\n",
              "      background-color: #E2EBFA;\n",
              "      box-shadow: 0px 1px 2px rgba(60, 64, 67, 0.3), 0px 1px 3px 1px rgba(60, 64, 67, 0.15);\n",
              "      fill: #174EA6;\n",
              "    }\n",
              "\n",
              "    .colab-df-buttons div {\n",
              "      margin-bottom: 4px;\n",
              "    }\n",
              "\n",
              "    [theme=dark] .colab-df-convert {\n",
              "      background-color: #3B4455;\n",
              "      fill: #D2E3FC;\n",
              "    }\n",
              "\n",
              "    [theme=dark] .colab-df-convert:hover {\n",
              "      background-color: #434B5C;\n",
              "      box-shadow: 0px 1px 3px 1px rgba(0, 0, 0, 0.15);\n",
              "      filter: drop-shadow(0px 1px 2px rgba(0, 0, 0, 0.3));\n",
              "      fill: #FFFFFF;\n",
              "    }\n",
              "  </style>\n",
              "\n",
              "    <script>\n",
              "      const buttonEl =\n",
              "        document.querySelector('#df-a9501143-4506-4b1a-94dd-a4cf3c2145fc button.colab-df-convert');\n",
              "      buttonEl.style.display =\n",
              "        google.colab.kernel.accessAllowed ? 'block' : 'none';\n",
              "\n",
              "      async function convertToInteractive(key) {\n",
              "        const element = document.querySelector('#df-a9501143-4506-4b1a-94dd-a4cf3c2145fc');\n",
              "        const dataTable =\n",
              "          await google.colab.kernel.invokeFunction('convertToInteractive',\n",
              "                                                    [key], {});\n",
              "        if (!dataTable) return;\n",
              "\n",
              "        const docLinkHtml = 'Like what you see? Visit the ' +\n",
              "          '<a target=\"_blank\" href=https://colab.research.google.com/notebooks/data_table.ipynb>data table notebook</a>'\n",
              "          + ' to learn more about interactive tables.';\n",
              "        element.innerHTML = '';\n",
              "        dataTable['output_type'] = 'display_data';\n",
              "        await google.colab.output.renderOutput(dataTable, element);\n",
              "        const docLink = document.createElement('div');\n",
              "        docLink.innerHTML = docLinkHtml;\n",
              "        element.appendChild(docLink);\n",
              "      }\n",
              "    </script>\n",
              "  </div>\n",
              "\n",
              "\n",
              "<div id=\"df-a4ca7b1d-2e07-4b2f-8d04-f05d79fbba4d\">\n",
              "  <button class=\"colab-df-quickchart\" onclick=\"quickchart('df-a4ca7b1d-2e07-4b2f-8d04-f05d79fbba4d')\"\n",
              "            title=\"Suggest charts\"\n",
              "            style=\"display:none;\">\n",
              "\n",
              "<svg xmlns=\"http://www.w3.org/2000/svg\" height=\"24px\"viewBox=\"0 0 24 24\"\n",
              "     width=\"24px\">\n",
              "    <g>\n",
              "        <path d=\"M19 3H5c-1.1 0-2 .9-2 2v14c0 1.1.9 2 2 2h14c1.1 0 2-.9 2-2V5c0-1.1-.9-2-2-2zM9 17H7v-7h2v7zm4 0h-2V7h2v10zm4 0h-2v-4h2v4z\"/>\n",
              "    </g>\n",
              "</svg>\n",
              "  </button>\n",
              "\n",
              "<style>\n",
              "  .colab-df-quickchart {\n",
              "      --bg-color: #E8F0FE;\n",
              "      --fill-color: #1967D2;\n",
              "      --hover-bg-color: #E2EBFA;\n",
              "      --hover-fill-color: #174EA6;\n",
              "      --disabled-fill-color: #AAA;\n",
              "      --disabled-bg-color: #DDD;\n",
              "  }\n",
              "\n",
              "  [theme=dark] .colab-df-quickchart {\n",
              "      --bg-color: #3B4455;\n",
              "      --fill-color: #D2E3FC;\n",
              "      --hover-bg-color: #434B5C;\n",
              "      --hover-fill-color: #FFFFFF;\n",
              "      --disabled-bg-color: #3B4455;\n",
              "      --disabled-fill-color: #666;\n",
              "  }\n",
              "\n",
              "  .colab-df-quickchart {\n",
              "    background-color: var(--bg-color);\n",
              "    border: none;\n",
              "    border-radius: 50%;\n",
              "    cursor: pointer;\n",
              "    display: none;\n",
              "    fill: var(--fill-color);\n",
              "    height: 32px;\n",
              "    padding: 0;\n",
              "    width: 32px;\n",
              "  }\n",
              "\n",
              "  .colab-df-quickchart:hover {\n",
              "    background-color: var(--hover-bg-color);\n",
              "    box-shadow: 0 1px 2px rgba(60, 64, 67, 0.3), 0 1px 3px 1px rgba(60, 64, 67, 0.15);\n",
              "    fill: var(--button-hover-fill-color);\n",
              "  }\n",
              "\n",
              "  .colab-df-quickchart-complete:disabled,\n",
              "  .colab-df-quickchart-complete:disabled:hover {\n",
              "    background-color: var(--disabled-bg-color);\n",
              "    fill: var(--disabled-fill-color);\n",
              "    box-shadow: none;\n",
              "  }\n",
              "\n",
              "  .colab-df-spinner {\n",
              "    border: 2px solid var(--fill-color);\n",
              "    border-color: transparent;\n",
              "    border-bottom-color: var(--fill-color);\n",
              "    animation:\n",
              "      spin 1s steps(1) infinite;\n",
              "  }\n",
              "\n",
              "  @keyframes spin {\n",
              "    0% {\n",
              "      border-color: transparent;\n",
              "      border-bottom-color: var(--fill-color);\n",
              "      border-left-color: var(--fill-color);\n",
              "    }\n",
              "    20% {\n",
              "      border-color: transparent;\n",
              "      border-left-color: var(--fill-color);\n",
              "      border-top-color: var(--fill-color);\n",
              "    }\n",
              "    30% {\n",
              "      border-color: transparent;\n",
              "      border-left-color: var(--fill-color);\n",
              "      border-top-color: var(--fill-color);\n",
              "      border-right-color: var(--fill-color);\n",
              "    }\n",
              "    40% {\n",
              "      border-color: transparent;\n",
              "      border-right-color: var(--fill-color);\n",
              "      border-top-color: var(--fill-color);\n",
              "    }\n",
              "    60% {\n",
              "      border-color: transparent;\n",
              "      border-right-color: var(--fill-color);\n",
              "    }\n",
              "    80% {\n",
              "      border-color: transparent;\n",
              "      border-right-color: var(--fill-color);\n",
              "      border-bottom-color: var(--fill-color);\n",
              "    }\n",
              "    90% {\n",
              "      border-color: transparent;\n",
              "      border-bottom-color: var(--fill-color);\n",
              "    }\n",
              "  }\n",
              "</style>\n",
              "\n",
              "  <script>\n",
              "    async function quickchart(key) {\n",
              "      const quickchartButtonEl =\n",
              "        document.querySelector('#' + key + ' button');\n",
              "      quickchartButtonEl.disabled = true;  // To prevent multiple clicks.\n",
              "      quickchartButtonEl.classList.add('colab-df-spinner');\n",
              "      try {\n",
              "        const charts = await google.colab.kernel.invokeFunction(\n",
              "            'suggestCharts', [key], {});\n",
              "      } catch (error) {\n",
              "        console.error('Error during call to suggestCharts:', error);\n",
              "      }\n",
              "      quickchartButtonEl.classList.remove('colab-df-spinner');\n",
              "      quickchartButtonEl.classList.add('colab-df-quickchart-complete');\n",
              "    }\n",
              "    (() => {\n",
              "      let quickchartButtonEl =\n",
              "        document.querySelector('#df-a4ca7b1d-2e07-4b2f-8d04-f05d79fbba4d button');\n",
              "      quickchartButtonEl.style.display =\n",
              "        google.colab.kernel.accessAllowed ? 'block' : 'none';\n",
              "    })();\n",
              "  </script>\n",
              "</div>\n",
              "\n",
              "    </div>\n",
              "  </div>\n"
            ],
            "application/vnd.google.colaboratory.intrinsic+json": {
              "type": "dataframe",
              "variable_name": "first_class_df_cleaned",
              "summary": "{\n  \"name\": \"first_class_df_cleaned\",\n  \"rows\": 7,\n  \"fields\": [\n    {\n      \"column\": \"Name\",\n      \"properties\": {\n        \"dtype\": \"string\",\n        \"num_unique_values\": 7,\n        \"samples\": [\n          \"Arjabi\",\n          \"Shiwani\",\n          \"Joshua\"\n        ],\n        \"semantic_type\": \"\",\n        \"description\": \"\"\n      }\n    },\n    {\n      \"column\": \"Pclass\",\n      \"properties\": {\n        \"dtype\": \"number\",\n        \"std\": 0,\n        \"min\": 1,\n        \"max\": 1,\n        \"num_unique_values\": 1,\n        \"samples\": [\n          1\n        ],\n        \"semantic_type\": \"\",\n        \"description\": \"\"\n      }\n    },\n    {\n      \"column\": \"Sex\",\n      \"properties\": {\n        \"dtype\": \"category\",\n        \"num_unique_values\": 2,\n        \"samples\": [\n          \"Male\"\n        ],\n        \"semantic_type\": \"\",\n        \"description\": \"\"\n      }\n    },\n    {\n      \"column\": \"Age\",\n      \"properties\": {\n        \"dtype\": \"number\",\n        \"std\": 6,\n        \"min\": 22,\n        \"max\": 38,\n        \"num_unique_values\": 4,\n        \"samples\": [\n          38\n        ],\n        \"semantic_type\": \"\",\n        \"description\": \"\"\n      }\n    },\n    {\n      \"column\": \"Fare\",\n      \"properties\": {\n        \"dtype\": \"number\",\n        \"std\": 27.113869453587597,\n        \"min\": 7.25,\n        \"max\": 71.2833,\n        \"num_unique_values\": 5,\n        \"samples\": [\n          71.2833\n        ],\n        \"semantic_type\": \"\",\n        \"description\": \"\"\n      }\n    },\n    {\n      \"column\": \"Survived\",\n      \"properties\": {\n        \"dtype\": \"number\",\n        \"std\": 0,\n        \"min\": 0,\n        \"max\": 1,\n        \"num_unique_values\": 2,\n        \"samples\": [\n          1\n        ],\n        \"semantic_type\": \"\",\n        \"description\": \"\"\n      }\n    }\n  ]\n}"
            }
          },
          "metadata": {},
          "execution_count": 24
        }
      ]
    },
    {
      "cell_type": "markdown",
      "source": [
        "Problem - 3:\n",
        "\n",
        "The ’Embarked’ column in the Titanic dataset contains categorical data representing the ports of embarka-\n",
        "tion:\n",
        "\n",
        "• ’C’ for Cherbourg\n",
        "• ’Q’ for Queenstown\n",
        "• ’S’ for Southampton\n",
        "Task:\n",
        "1. Use one-hot encoding to convert the ’Embarked’ column into separate binary columns (’Embarked C’,\n",
        "’Embarked Q’, ’Embarked S’).\n",
        "2. Add these new columns to the original DataFrame.\n",
        "3. Drop the original ’Embarked’ column.\n",
        "4. Print the first few rows of the modified DataFrame to verify the changes."
      ],
      "metadata": {
        "id": "aRmhW_knBROx"
      }
    },
    {
      "cell_type": "code",
      "source": [
        "import pandas as pd\n",
        "\n",
        "# Load the Titanic dataset\n",
        "df = pd.read_csv(\"titanic.csv\")\n",
        "\n",
        "# Verify column names\n",
        "print(df.columns)\n",
        "\n",
        "# Apply one-hot encoding to the 'Embarked' column, add the new columns, and drop the original column\n",
        "df = pd.concat([df, pd.get_dummies(df['Embarked'], prefix='Embarked')], axis=1).drop('Embarked', axis=1)\n",
        "\n",
        "# Print the first few rows of the modified DataFrame\n",
        "print(df.head())\n"
      ],
      "metadata": {
        "colab": {
          "base_uri": "https://localhost:8080/"
        },
        "id": "MtYJPqa2BXRF",
        "outputId": "77cc899d-4ffd-4b04-dcae-c8afa8cffc88"
      },
      "execution_count": null,
      "outputs": [
        {
          "output_type": "stream",
          "name": "stdout",
          "text": [
            "Index(['PassengerId', 'Name', 'Pclass', 'Sex', 'Age', 'Fare', 'Survived',\n",
            "       'Embarked'],\n",
            "      dtype='object')\n",
            "   PassengerId     Name  Pclass     Sex  Age     Fare  Survived  Embarked_C  \\\n",
            "0            1   Arjabi       1  Female   22   7.2500         0       False   \n",
            "1            2  Shiwani       1  Female   38  71.2833         1        True   \n",
            "2            3   Namuna       1  Female   26   7.9250         1       False   \n",
            "3            4   Sajani       1  Female   35  53.1000         1       False   \n",
            "4            5     Ryan       1    Male   35   8.0500         0       False   \n",
            "\n",
            "   Embarked_Q  Embarked_S  \n",
            "0       False        True  \n",
            "1       False       False  \n",
            "2        True       False  \n",
            "3       False        True  \n",
            "4       False        True  \n"
          ]
        }
      ]
    },
    {
      "cell_type": "markdown",
      "source": [
        "Problem - 4:\n",
        "\n",
        "Compare the mean survival rates (’Survived’) for the different groups in the ’Sex’ column. Draw a visual-\n",
        "ization to show how the survival distributions vary by gender."
      ],
      "metadata": {
        "id": "Hr2QTJ5ZEkxz"
      }
    },
    {
      "cell_type": "code",
      "source": [
        "import pandas as pd\n",
        "import seaborn as sns\n",
        "import matplotlib.pyplot as plt\n",
        "\n",
        "# Load the Titanic dataset\n",
        "df = pd.read_csv(\"titanic.csv\")\n",
        "\n",
        "# Calculate mean survival rates for different groups in the 'Sex' column\n",
        "mean_survival_by_sex = df.groupby('Sex')['Survived'].mean()\n",
        "print(\"Mean survival rates by gender:\")\n",
        "print(mean_survival_by_sex)\n",
        "\n",
        "# Visualization: Survival distributions by gender\n",
        "plt.figure(figsize=(8, 6))\n",
        "sns.barplot(x='Sex', y='Survived', data=df, ci=None, palette='pastel')\n",
        "\n",
        "# Customize the plot\n",
        "plt.title('Mean Survival Rates by Gender', fontsize=14)\n",
        "plt.xlabel('Gender', fontsize=12)\n",
        "plt.ylabel('Survival Rate', fontsize=12)\n",
        "plt.ylim(0, 1)  # Survival rates range from 0 to 1\n",
        "plt.grid(axis='y', linestyle='--', alpha=0.7)\n",
        "\n",
        "# Show the plot\n",
        "plt.show()\n"
      ],
      "metadata": {
        "colab": {
          "base_uri": "https://localhost:8080/",
          "height": 829
        },
        "id": "SHSWD-cOEoCd",
        "outputId": "d9b6431b-aedd-413c-c73c-bede77618b6e"
      },
      "execution_count": null,
      "outputs": [
        {
          "output_type": "stream",
          "name": "stdout",
          "text": [
            "Mean survival rates by gender:\n",
            "Sex\n",
            "Female    0.750000\n",
            "Male      0.333333\n",
            "Name: Survived, dtype: float64\n"
          ]
        },
        {
          "output_type": "stream",
          "name": "stderr",
          "text": [
            "<ipython-input-26-b51b1ea73fa1>:15: FutureWarning: \n",
            "\n",
            "The `ci` parameter is deprecated. Use `errorbar=None` for the same effect.\n",
            "\n",
            "  sns.barplot(x='Sex', y='Survived', data=df, ci=None, palette='pastel')\n",
            "<ipython-input-26-b51b1ea73fa1>:15: FutureWarning: \n",
            "\n",
            "Passing `palette` without assigning `hue` is deprecated and will be removed in v0.14.0. Assign the `x` variable to `hue` and set `legend=False` for the same effect.\n",
            "\n",
            "  sns.barplot(x='Sex', y='Survived', data=df, ci=None, palette='pastel')\n"
          ]
        },
        {
          "output_type": "display_data",
          "data": {
            "text/plain": [
              "<Figure size 800x600 with 1 Axes>"
            ],
            "image/png": "[encoded data removed]"
          },
          "metadata": {}
        }
      ]
    },
    {
      "cell_type": "markdown",
      "source": [
        "Problem - 5:\n",
        "\n",
        "Draw a visualization that breaks your visualization from Exercise 3 down by the port of embarkation (’Em-\n",
        "barked’). In this instance, compare the ports ’C’ (Cherbourg), ’Q’ (Queenstown), and ’S’ (Southampton)."
      ],
      "metadata": {
        "id": "OXq8sxnQFsZe"
      }
    },
    {
      "cell_type": "code",
      "source": [
        "import pandas as pd\n",
        "import seaborn as sns\n",
        "import matplotlib.pyplot as plt\n",
        "\n",
        "# Load the Titanic dataset\n",
        "df = pd.read_csv(\"titanic.csv\")\n",
        "\n",
        "# Ensure the 'Embarked' column is clean and meaningful\n",
        "df = df.dropna(subset=['Embarked', 'Sex', 'Survived'])  # Drop rows with missing data in key columns\n",
        "\n",
        "# Visualization: Survival rates by gender and port of embarkation\n",
        "plt.figure(figsize=(10, 6))\n",
        "sns.barplot(x='Embarked', y='Survived', hue='Sex', data=df, ci=None, palette='pastel')\n",
        "\n",
        "# Customize the plot\n",
        "plt.title('Survival Rates by Gender and Port of Embarkation', fontsize=14)\n",
        "plt.xlabel('Port of Embarkation', fontsize=12)\n",
        "plt.ylabel('Survival Rate', fontsize=12)\n",
        "plt.ylim(0, 1)  # Survival rates range from 0 to 1\n",
        "plt.legend(title='Gender', loc='upper left')\n",
        "plt.grid(axis='y', linestyle='--', alpha=0.7)\n",
        "\n",
        "# Show the plot\n",
        "plt.show()\n"
      ],
      "metadata": {
        "colab": {
          "base_uri": "https://localhost:8080/",
          "height": 656
        },
        "id": "Mwew4qnrF0EM",
        "outputId": "9a776fd2-e2e8-48cb-8a2f-2a568725f6e5"
      },
      "execution_count": null,
      "outputs": [
        {
          "output_type": "stream",
          "name": "stderr",
          "text": [
            "<ipython-input-27-1d312636b38d>:13: FutureWarning: \n",
            "\n",
            "The `ci` parameter is deprecated. Use `errorbar=None` for the same effect.\n",
            "\n",
            "  sns.barplot(x='Embarked', y='Survived', hue='Sex', data=df, ci=None, palette='pastel')\n"
          ]
        },
        {
          "output_type": "display_data",
          "data": {
            "text/plain": [
              "<Figure size 1000x600 with 1 Axes>"
            ],
            "image/png": "[encoded data removed]"
          },
          "metadata": {}
        }
      ]
    },
    {
      "cell_type": "markdown",
      "source": [
        "Problem - 6{Optional}:\n",
        "Show how the survival rates (’Survived’) vary by age group and passenger class (’Pclass’). Break up the\n",
        "’Age’ column into five quantiles in your DataFrame, and then compare the means of ’Survived’ by class\n",
        "and age group. Draw a visualization using a any plotting library to represent this graphically."
      ],
      "metadata": {
        "id": "rtON6FQwF66s"
      }
    },
    {
      "cell_type": "code",
      "source": [
        "import pandas as pd\n",
        "import seaborn as sns\n",
        "import matplotlib.pyplot as plt\n",
        "\n",
        "# Load the Titanic dataset\n",
        "df = pd.read_csv(\"titanic.csv\")\n",
        "\n",
        "# Drop rows with missing values in 'Age' and 'Survived'\n",
        "df = df.dropna(subset=['Age', 'Survived'])\n",
        "\n",
        "# Create age groups (quantiles) and add them as a new column\n",
        "df['AgeGroup'] = pd.qcut(df['Age'], q=5, labels=['Q1', 'Q2', 'Q3', 'Q4', 'Q5'])\n",
        "\n",
        "# Calculate mean survival rates by AgeGroup and Pclass\n",
        "survival_rates = df.groupby(['AgeGroup', 'Pclass'])['Survived'].mean().unstack()\n",
        "print(\"Mean survival rates by AgeGroup and Pclass:\")\n",
        "print(survival_rates)\n",
        "\n",
        "# Visualization: Survival rates by AgeGroup and Pclass\n",
        "plt.figure(figsize=(12, 8))\n",
        "survival_rates.plot(kind='bar', figsize=(12, 6), colormap='viridis')\n",
        "\n",
        "# Customize the plot\n",
        "plt.title('Survival Rates by Age Group and Passenger Class', fontsize=14)\n",
        "plt.xlabel('Age Group (Quantiles)', fontsize=12)\n",
        "plt.ylabel('Survival Rate', fontsize=12)\n",
        "plt.xticks(rotation=0)\n",
        "plt.legend(title='Pclass', loc='upper right')\n",
        "plt.grid(axis='y', linestyle='--', alpha=0.7)\n",
        "\n",
        "# Show the plot\n",
        "plt.tight_layout()\n",
        "plt.show()\n"
      ],
      "metadata": {
        "colab": {
          "base_uri": "https://localhost:8080/",
          "height": 818
        },
        "id": "Lj_8ObL1GHxe",
        "outputId": "649b700d-802c-4e23-b935-28ff8d5aea87"
      },
      "execution_count": null,
      "outputs": [
        {
          "output_type": "stream",
          "name": "stdout",
          "text": [
            "Mean survival rates by AgeGroup and Pclass:\n",
            "Pclass      1\n",
            "AgeGroup     \n",
            "Q1        0.0\n",
            "Q2        1.0\n",
            "Q3        NaN\n",
            "Q4        0.5\n",
            "Q5        1.0\n"
          ]
        },
        {
          "output_type": "stream",
          "name": "stderr",
          "text": [
            "<ipython-input-28-80dd9c764e3e>:15: FutureWarning: The default of observed=False is deprecated and will be changed to True in a future version of pandas. Pass observed=False to retain current behavior or observed=True to adopt the future default and silence this warning.\n",
            "  survival_rates = df.groupby(['AgeGroup', 'Pclass'])['Survived'].mean().unstack()\n"
          ]
        },
        {
          "output_type": "display_data",
          "data": {
            "text/plain": [
              "<Figure size 1200x800 with 0 Axes>"
            ]
          },
          "metadata": {}
        },
        {
          "output_type": "display_data",
          "data": {
            "text/plain": [
              "<Figure size 1200x600 with 1 Axes>"
            ],
            "image/png": "[encoded data removed]"
          },
          "metadata": {}
        }
      ]
    }
  ]
}