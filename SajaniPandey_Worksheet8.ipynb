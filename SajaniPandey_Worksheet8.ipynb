{
  "nbformat": 4,
  "nbformat_minor": 0,
  "metadata": {
    "colab": {
      "provenance": []
    },
    "kernelspec": {
      "name": "python3",
      "display_name": "Python 3"
    },
    "language_info": {
      "name": "python"
    }
  },
  "cells": [
    {
      "cell_type": "markdown",
      "source": [
        "1. Implement Classification Models:\n",
        "\n",
        "a. Train a Decision Tree Classifier and a Random Forest classifier using scikit-learn."
      ],
      "metadata": {
        "id": "Mn3VL9qDwe1Z"
      }
    },
    {
      "cell_type": "code",
      "source": [
        "# Necessary Imports\n",
        "from sklearn.datasets import load_wine\n",
        "from sklearn.model_selection import train_test_split\n",
        "from sklearn.tree import DecisionTreeClassifier\n",
        "from sklearn.metrics import f1_score\n",
        "\n",
        "# Load the Wine dataset\n",
        "data = load_wine()\n",
        "X = data.data\n",
        "y = data.target\n",
        "\n",
        "# Split the data into training and testing sets (80% training, 20% testing)\n",
        "X_train, X_test, y_train, y_test = train_test_split(X, y, test_size=0.2, random_state=42)\n",
        "\n",
        "# Train the Decision Tree Classifier\n",
        "decision_tree = DecisionTreeClassifier(random_state=42)\n",
        "decision_tree.fit(X_train, y_train)\n",
        "\n",
        "# Predict on the test set\n",
        "y_pred_dt = decision_tree.predict(X_test)\n",
        "\n",
        "# Calculate F1 score\n",
        "f1_score_dt = f1_score(y_test, y_pred_dt, average='weighted')\n",
        "print(f\"Decision Tree F1 Score: {f1_score_dt:.4f}\")\n"
      ],
      "metadata": {
        "colab": {
          "base_uri": "https://localhost:8080/"
        },
        "id": "qVqWjwfzyrkE",
        "outputId": "d060b35d-20b7-4c28-9984-b6cffeaac6dc"
      },
      "execution_count": null,
      "outputs": [
        {
          "output_type": "stream",
          "name": "stdout",
          "text": [
            "Decision Tree F1 Score: 0.9440\n"
          ]
        }
      ]
    },
    {
      "cell_type": "markdown",
      "source": [
        "b. Compare the models based on their F1 scores."
      ],
      "metadata": {
        "id": "hERPg5ADy85q"
      }
    },
    {
      "cell_type": "code",
      "source": [
        "# Necessary Imports\n",
        "from sklearn.ensemble import RandomForestClassifier\n",
        "\n",
        "# Train the Random Forest Classifier\n",
        "random_forest = RandomForestClassifier(random_state=42)\n",
        "random_forest.fit(X_train, y_train)\n",
        "\n",
        "# Predict on the test set\n",
        "y_pred_rf = random_forest.predict(X_test)\n",
        "\n",
        "# Calculate F1 score\n",
        "f1_score_rf = f1_score(y_test, y_pred_rf, average='weighted')\n",
        "print(f\"Random Forest F1 Score: {f1_score_rf:.4f}\")\n"
      ],
      "metadata": {
        "colab": {
          "base_uri": "https://localhost:8080/"
        },
        "id": "JzgLjky_zA-I",
        "outputId": "f576a183-89e3-46e7-d67b-719e437ffdc4"
      },
      "execution_count": null,
      "outputs": [
        {
          "output_type": "stream",
          "name": "stdout",
          "text": [
            "Random Forest F1 Score: 1.0000\n"
          ]
        }
      ]
    },
    {
      "cell_type": "markdown",
      "source": [
        "2. Hyperparameter Tuning:\n",
        "\n",
        "a. Identify three hyperparameters of the Random Forest Classifier."
      ],
      "metadata": {
        "id": "xbujnqODzjtO"
      }
    },
    {
      "cell_type": "markdown",
      "source": [
        "The three hyperparameters of the Random Forest Classifier:\n",
        "\n",
        "i. n_estimators: The number of trees in the forest.\n",
        "\n",
        "ii. max_depth: The maximum depth of each tree.\n",
        "\n",
        "iii. min_samples_split: The minimum number of samples required to split an internal node."
      ],
      "metadata": {
        "id": "V0pc-h8izxYW"
      }
    },
    {
      "cell_type": "markdown",
      "source": [
        "b. Perform hyperparameter tuning using GridSearchCV to optimize these parameters.\n",
        "\n",
        "c.  Take hints from the scikit-learn documentation to guide the implementation."
      ],
      "metadata": {
        "id": "DRxn_jO30Z0b"
      }
    },
    {
      "cell_type": "code",
      "source": [
        "# Necessary Imports\n",
        "from sklearn.ensemble import RandomForestClassifier\n",
        "from sklearn.model_selection import GridSearchCV\n",
        "from sklearn.datasets import load_wine\n",
        "from sklearn.model_selection import train_test_split\n",
        "from sklearn.metrics import f1_score\n",
        "\n",
        "# Load the Wine dataset\n",
        "data = load_wine()\n",
        "X = data.data\n",
        "y = data.target\n",
        "\n",
        "# Split the data into training and testing sets (80% training, 20% testing)\n",
        "X_train, X_test, y_train, y_test = train_test_split(X, y, test_size=0.2, random_state=42)\n",
        "\n",
        "# Define the Random Forest Classifier\n",
        "random_forest = RandomForestClassifier(random_state=42)\n",
        "\n",
        "# Define the hyperparameters grid\n",
        "param_grid = {\n",
        "    'n_estimators': [50, 100, 200],        # Number of trees in the forest\n",
        "    'max_depth': [None, 10, 20],           # Maximum depth of each tree\n",
        "    'min_samples_split': [2, 5, 10]        # Minimum number of samples to split a node\n",
        "}\n",
        "\n",
        "# Perform GridSearchCV to find the best hyperparameters\n",
        "grid_search = GridSearchCV(estimator=random_forest, param_grid=param_grid,\n",
        "                           cv=5, scoring='f1_weighted', n_jobs=-1)\n",
        "\n",
        "# Fit the model with the best hyperparameters\n",
        "grid_search.fit(X_train, y_train)\n",
        "\n",
        "# Print the best hyperparameters found by GridSearchCV\n",
        "print(f\"Best Hyperparameters: {grid_search.best_params_}\")\n",
        "\n",
        "# Predict on the test set using the best model\n",
        "y_pred_rf_tuned = grid_search.best_estimator_.predict(X_test)\n",
        "\n",
        "# Calculate F1 score for the tuned Random Forest model\n",
        "f1_score_rf_tuned = f1_score(y_test, y_pred_rf_tuned, average='weighted')\n",
        "print(f\"Tuned Random Forest F1 Score: {f1_score_rf_tuned:.4f}\")\n"
      ],
      "metadata": {
        "colab": {
          "base_uri": "https://localhost:8080/"
        },
        "id": "gHc5cpiR0pm2",
        "outputId": "2c12195a-f1b3-477b-e076-90be97b390dd"
      },
      "execution_count": null,
      "outputs": [
        {
          "output_type": "stream",
          "name": "stdout",
          "text": [
            "Best Hyperparameters: {'max_depth': None, 'min_samples_split': 2, 'n_estimators': 100}\n",
            "Tuned Random Forest F1 Score: 1.0000\n"
          ]
        }
      ]
    },
    {
      "cell_type": "markdown",
      "source": [
        "3. Implement Regression Model:\n",
        "\n",
        "a. Training a Decision Tree Regressor and a Random Forest Regressor using scikit-learn."
      ],
      "metadata": {
        "id": "ZMIxdBKu1Lc9"
      }
    },
    {
      "cell_type": "code",
      "source": [
        "# Necessary Imports\n",
        "from sklearn.datasets import load_wine\n",
        "from sklearn.model_selection import train_test_split\n",
        "from sklearn.tree import DecisionTreeRegressor\n",
        "from sklearn.ensemble import RandomForestRegressor\n",
        "from sklearn.metrics import mean_squared_error\n",
        "\n",
        "# Load the Wine dataset (classification, but will use it for regression)\n",
        "data = load_wine()\n",
        "X = data.data\n",
        "y = data.target\n",
        "\n",
        "# Split the data into training and testing sets (80% training, 20% testing)\n",
        "X_train, X_test, y_train, y_test = train_test_split(X, y, test_size=0.2, random_state=42)\n",
        "\n",
        "# Train and predict using Decision Tree Regressor\n",
        "dt_regressor = DecisionTreeRegressor(random_state=42)\n",
        "dt_regressor.fit(X_train, y_train)\n",
        "y_pred_dt = dt_regressor.predict(X_test)\n",
        "\n",
        "# Train and predict using Random Forest Regressor\n",
        "rf_regressor = RandomForestRegressor(random_state=42)\n",
        "rf_regressor.fit(X_train, y_train)\n",
        "y_pred_rf = rf_regressor.predict(X_test)\n",
        "\n",
        "# Calculate Mean Squared Error (MSE) for both models\n",
        "mse_dt = mean_squared_error(y_test, y_pred_dt)\n",
        "mse_rf = mean_squared_error(y_test, y_pred_rf)\n",
        "\n",
        "# Print the MSE values\n",
        "print(f\"Decision Tree Regressor MSE: {mse_dt:.4f}\")\n",
        "print(f\"Random Forest Regressor MSE: {mse_rf:.4f}\")\n",
        "\n"
      ],
      "metadata": {
        "colab": {
          "base_uri": "https://localhost:8080/"
        },
        "id": "7WDh5z8x1YDk",
        "outputId": "802c9585-56e5-4314-e61f-4487d04d07a8"
      },
      "execution_count": null,
      "outputs": [
        {
          "output_type": "stream",
          "name": "stdout",
          "text": [
            "Decision Tree Regressor MSE: 0.1667\n",
            "Random Forest Regressor MSE: 0.0648\n"
          ]
        }
      ]
    },
    {
      "cell_type": "markdown",
      "source": [
        "b. Hyperparameter Tuning using RandomizedSeachCV"
      ],
      "metadata": {
        "id": "6iFdflB92zEK"
      }
    },
    {
      "cell_type": "code",
      "source": [
        "# Necessary Imports\n",
        "from sklearn.datasets import load_wine\n",
        "from sklearn.model_selection import train_test_split, RandomizedSearchCV\n",
        "from sklearn.ensemble import RandomForestRegressor\n",
        "from sklearn.metrics import mean_squared_error\n",
        "import numpy as np\n",
        "\n",
        "# Load the Wine dataset (classification, but will use it for regression)\n",
        "data = load_wine()\n",
        "X = data.data\n",
        "y = data.target\n",
        "\n",
        "# Split the data into training and testing sets (80% training, 20% testing)\n",
        "X_train, X_test, y_train, y_test = train_test_split(X, y, test_size=0.2, random_state=42)\n",
        "\n",
        "# Define the Random Forest Regressor\n",
        "rf_regressor = RandomForestRegressor(random_state=42)\n",
        "\n",
        "# Define the hyperparameters to search over\n",
        "param_dist = {\n",
        "    'n_estimators': np.arange(50, 201, 50),  # Number of trees\n",
        "    'max_depth': np.arange(5, 21, 5),        # Maximum depth of trees\n",
        "    'min_samples_split': np.arange(2, 11, 2)  # Minimum number of samples to split an internal node\n",
        "}\n",
        "\n",
        "# Perform RandomizedSearchCV to optimize the hyperparameters\n",
        "random_search = RandomizedSearchCV(estimator=rf_regressor, param_distributions=param_dist,\n",
        "                                   n_iter=10, cv=3, random_state=42, n_jobs=-1)\n",
        "random_search.fit(X_train, y_train)\n",
        "\n",
        "# Get the best model from RandomizedSearchCV\n",
        "best_rf_regressor = random_search.best_estimator_\n",
        "\n",
        "# Predict using the best model\n",
        "y_pred_rf_best = best_rf_regressor.predict(X_test)\n",
        "\n",
        "# Calculate Mean Squared Error (MSE) for the optimized Random Forest model\n",
        "mse_rf_best = mean_squared_error(y_test, y_pred_rf_best)\n",
        "\n",
        "# Print the MSE for the optimized Random Forest model\n",
        "print(f\"Optimized Random Forest Regressor MSE: {mse_rf_best:.4f}\")\n",
        "print(\"Best Hyperparameters found: \", random_search.best_params_)\n"
      ],
      "metadata": {
        "colab": {
          "base_uri": "https://localhost:8080/"
        },
        "id": "gsuq6W_s2-YL",
        "outputId": "dfd9356d-eee9-4926-d2c2-ecd351f50e3e"
      },
      "execution_count": null,
      "outputs": [
        {
          "output_type": "stream",
          "name": "stdout",
          "text": [
            "Optimized Random Forest Regressor MSE: 0.0612\n",
            "Best Hyperparameters found:  {'n_estimators': 150, 'min_samples_split': 2, 'max_depth': 10}\n"
          ]
        }
      ]
    }
  ]
}